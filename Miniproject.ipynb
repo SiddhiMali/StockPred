{
 "cells": [
  {
   "cell_type": "code",
   "execution_count": null,
   "metadata": {
    "colab": {
     "base_uri": "https://localhost:8080/",
     "height": 258,
     "resources": {
      "http://localhost:8080/nbextensions/google.colab/files.js": {
       "data": "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",
       "headers": [
        [
         "content-type",
         "application/javascript"
        ]
       ],
       "ok": true,
       "status": 200,
       "status_text": ""
      }
     }
    },
    "id": "gIocmjgY0RVC",
    "outputId": "8c759191-699b-4144-c4c0-f8b77e6f3466"
   },
   "outputs": [
    {
     "data": {
      "text/html": [
       "\n",
       "     <input type=\"file\" id=\"files-7d309d0e-b797-43e7-a978-40a9de1fbb9b\" name=\"files[]\" multiple disabled\n",
       "        style=\"border:none\" />\n",
       "     <output id=\"result-7d309d0e-b797-43e7-a978-40a9de1fbb9b\">\n",
       "      Upload widget is only available when the cell has been executed in the\n",
       "      current browser session. Please rerun this cell to enable.\n",
       "      </output>\n",
       "      <script src=\"/nbextensions/google.colab/files.js\"></script> "
      ],
      "text/plain": [
       "<IPython.core.display.HTML object>"
      ]
     },
     "metadata": {
      "tags": []
     },
     "output_type": "display_data"
    },
    {
     "name": "stdout",
     "output_type": "stream",
     "text": [
      "Saving NESTLEIND.csv to NESTLEIND.csv\n"
     ]
    },
    {
     "data": {
      "text/html": [
       "<div>\n",
       "<style scoped>\n",
       "    .dataframe tbody tr th:only-of-type {\n",
       "        vertical-align: middle;\n",
       "    }\n",
       "\n",
       "    .dataframe tbody tr th {\n",
       "        vertical-align: top;\n",
       "    }\n",
       "\n",
       "    .dataframe thead th {\n",
       "        text-align: right;\n",
       "    }\n",
       "</style>\n",
       "<table border=\"1\" class=\"dataframe\">\n",
       "  <thead>\n",
       "    <tr style=\"text-align: right;\">\n",
       "      <th></th>\n",
       "      <th>Date</th>\n",
       "      <th>Symbol</th>\n",
       "      <th>Series</th>\n",
       "      <th>Prev Close</th>\n",
       "      <th>Open</th>\n",
       "      <th>High</th>\n",
       "      <th>Low</th>\n",
       "      <th>Last</th>\n",
       "      <th>Close</th>\n",
       "      <th>VWAP</th>\n",
       "      <th>Volume</th>\n",
       "      <th>Turnover</th>\n",
       "      <th>Trades</th>\n",
       "      <th>Deliverable Volume</th>\n",
       "      <th>%Deliverble</th>\n",
       "    </tr>\n",
       "  </thead>\n",
       "  <tbody>\n",
       "    <tr>\n",
       "      <th>0</th>\n",
       "      <td>2010-01-08</td>\n",
       "      <td>NESTLEIND</td>\n",
       "      <td>EQ</td>\n",
       "      <td>2512.95</td>\n",
       "      <td>2555.00</td>\n",
       "      <td>2575.0</td>\n",
       "      <td>2475.20</td>\n",
       "      <td>2476.0</td>\n",
       "      <td>2494.65</td>\n",
       "      <td>2529.81</td>\n",
       "      <td>648</td>\n",
       "      <td>1.639316e+11</td>\n",
       "      <td>NaN</td>\n",
       "      <td>438</td>\n",
       "      <td>0.6759</td>\n",
       "    </tr>\n",
       "    <tr>\n",
       "      <th>1</th>\n",
       "      <td>2010-01-11</td>\n",
       "      <td>NESTLEIND</td>\n",
       "      <td>EQ</td>\n",
       "      <td>2494.65</td>\n",
       "      <td>2401.00</td>\n",
       "      <td>2515.0</td>\n",
       "      <td>2400.00</td>\n",
       "      <td>2500.0</td>\n",
       "      <td>2498.95</td>\n",
       "      <td>2494.44</td>\n",
       "      <td>825</td>\n",
       "      <td>2.057909e+11</td>\n",
       "      <td>NaN</td>\n",
       "      <td>638</td>\n",
       "      <td>0.7733</td>\n",
       "    </tr>\n",
       "    <tr>\n",
       "      <th>2</th>\n",
       "      <td>2010-01-12</td>\n",
       "      <td>NESTLEIND</td>\n",
       "      <td>EQ</td>\n",
       "      <td>2498.95</td>\n",
       "      <td>2540.00</td>\n",
       "      <td>2540.0</td>\n",
       "      <td>2471.35</td>\n",
       "      <td>2505.0</td>\n",
       "      <td>2502.85</td>\n",
       "      <td>2485.22</td>\n",
       "      <td>68346</td>\n",
       "      <td>1.698549e+13</td>\n",
       "      <td>NaN</td>\n",
       "      <td>67695</td>\n",
       "      <td>0.9905</td>\n",
       "    </tr>\n",
       "    <tr>\n",
       "      <th>3</th>\n",
       "      <td>2010-01-13</td>\n",
       "      <td>NESTLEIND</td>\n",
       "      <td>EQ</td>\n",
       "      <td>2502.85</td>\n",
       "      <td>2502.85</td>\n",
       "      <td>2540.0</td>\n",
       "      <td>2480.00</td>\n",
       "      <td>2489.8</td>\n",
       "      <td>2489.35</td>\n",
       "      <td>2491.94</td>\n",
       "      <td>1032</td>\n",
       "      <td>2.571682e+11</td>\n",
       "      <td>NaN</td>\n",
       "      <td>718</td>\n",
       "      <td>0.6957</td>\n",
       "    </tr>\n",
       "    <tr>\n",
       "      <th>4</th>\n",
       "      <td>2010-01-14</td>\n",
       "      <td>NESTLEIND</td>\n",
       "      <td>EQ</td>\n",
       "      <td>2489.35</td>\n",
       "      <td>2535.00</td>\n",
       "      <td>2595.0</td>\n",
       "      <td>2470.00</td>\n",
       "      <td>2560.0</td>\n",
       "      <td>2568.20</td>\n",
       "      <td>2510.27</td>\n",
       "      <td>330361</td>\n",
       "      <td>8.292956e+13</td>\n",
       "      <td>NaN</td>\n",
       "      <td>329193</td>\n",
       "      <td>0.9965</td>\n",
       "    </tr>\n",
       "  </tbody>\n",
       "</table>\n",
       "</div>"
      ],
      "text/plain": [
       "         Date     Symbol Series  ...  Trades  Deliverable Volume  %Deliverble\n",
       "0  2010-01-08  NESTLEIND     EQ  ...     NaN                 438       0.6759\n",
       "1  2010-01-11  NESTLEIND     EQ  ...     NaN                 638       0.7733\n",
       "2  2010-01-12  NESTLEIND     EQ  ...     NaN               67695       0.9905\n",
       "3  2010-01-13  NESTLEIND     EQ  ...     NaN                 718       0.6957\n",
       "4  2010-01-14  NESTLEIND     EQ  ...     NaN              329193       0.9965\n",
       "\n",
       "[5 rows x 15 columns]"
      ]
     },
     "execution_count": 2,
     "metadata": {
      "tags": []
     },
     "output_type": "execute_result"
    }
   ],
   "source": [
    "#import packages\n",
    "import pandas as pd\n",
    "import numpy as np\n",
    " \n",
    "from sklearn.metrics import r2_score \n",
    "#to plot within notebook\n",
    "import matplotlib.pyplot as plt\n",
    "%matplotlib inline\n",
    " \n",
    " \n",
    "#setting figure size\n",
    "from matplotlib.pylab import rcParams\n",
    "rcParams['figure.figsize'] = 20,10\n",
    " \n",
    "from google.colab import files\n",
    "uploaded = files.upload()\n",
    " \n",
    "#read the file\n",
    "import io\n",
    "df = pd.read_csv(io.BytesIO(uploaded['NESTLEIND.csv']))\n",
    " \n",
    "#print the head\n",
    "df.head()"
   ]
  },
  {
   "cell_type": "code",
   "execution_count": null,
   "metadata": {
    "colab": {
     "base_uri": "https://localhost:8080/",
     "height": 203
    },
    "id": "Bu6qF50l2E27",
    "outputId": "c2b12e3b-e799-42b1-c71d-0d04f785360e"
   },
   "outputs": [
    {
     "data": {
      "text/html": [
       "<div>\n",
       "<style scoped>\n",
       "    .dataframe tbody tr th:only-of-type {\n",
       "        vertical-align: middle;\n",
       "    }\n",
       "\n",
       "    .dataframe tbody tr th {\n",
       "        vertical-align: top;\n",
       "    }\n",
       "\n",
       "    .dataframe thead th {\n",
       "        text-align: right;\n",
       "    }\n",
       "</style>\n",
       "<table border=\"1\" class=\"dataframe\">\n",
       "  <thead>\n",
       "    <tr style=\"text-align: right;\">\n",
       "      <th></th>\n",
       "      <th>Date</th>\n",
       "      <th>Symbol</th>\n",
       "      <th>Series</th>\n",
       "      <th>Prev Close</th>\n",
       "      <th>Open</th>\n",
       "      <th>High</th>\n",
       "      <th>Low</th>\n",
       "      <th>Last</th>\n",
       "      <th>Close</th>\n",
       "      <th>VWAP</th>\n",
       "      <th>Volume</th>\n",
       "      <th>Turnover</th>\n",
       "      <th>Trades</th>\n",
       "      <th>Deliverable Volume</th>\n",
       "      <th>%Deliverble</th>\n",
       "    </tr>\n",
       "  </thead>\n",
       "  <tbody>\n",
       "    <tr>\n",
       "      <th>1301</th>\n",
       "      <td>2015-03-31</td>\n",
       "      <td>NESTLEIND</td>\n",
       "      <td>EQ</td>\n",
       "      <td>6944.00</td>\n",
       "      <td>6950.0</td>\n",
       "      <td>7132.00</td>\n",
       "      <td>6827.60</td>\n",
       "      <td>7132.0</td>\n",
       "      <td>6947.35</td>\n",
       "      <td>6929.16</td>\n",
       "      <td>64200</td>\n",
       "      <td>4.448522e+13</td>\n",
       "      <td>13622.0</td>\n",
       "      <td>48338</td>\n",
       "      <td>0.7529</td>\n",
       "    </tr>\n",
       "    <tr>\n",
       "      <th>1302</th>\n",
       "      <td>2015-04-01</td>\n",
       "      <td>NESTLEIND</td>\n",
       "      <td>EQ</td>\n",
       "      <td>6947.35</td>\n",
       "      <td>7051.0</td>\n",
       "      <td>7059.95</td>\n",
       "      <td>6870.00</td>\n",
       "      <td>6890.2</td>\n",
       "      <td>6923.15</td>\n",
       "      <td>6975.99</td>\n",
       "      <td>13749</td>\n",
       "      <td>9.591290e+12</td>\n",
       "      <td>3889.0</td>\n",
       "      <td>8293</td>\n",
       "      <td>0.6032</td>\n",
       "    </tr>\n",
       "    <tr>\n",
       "      <th>1303</th>\n",
       "      <td>2015-04-06</td>\n",
       "      <td>NESTLEIND</td>\n",
       "      <td>EQ</td>\n",
       "      <td>6923.15</td>\n",
       "      <td>6988.9</td>\n",
       "      <td>7150.00</td>\n",
       "      <td>6926.40</td>\n",
       "      <td>7100.0</td>\n",
       "      <td>7121.35</td>\n",
       "      <td>7065.81</td>\n",
       "      <td>24913</td>\n",
       "      <td>1.760305e+13</td>\n",
       "      <td>6516.0</td>\n",
       "      <td>18331</td>\n",
       "      <td>0.7358</td>\n",
       "    </tr>\n",
       "    <tr>\n",
       "      <th>1304</th>\n",
       "      <td>2015-04-07</td>\n",
       "      <td>NESTLEIND</td>\n",
       "      <td>EQ</td>\n",
       "      <td>7121.35</td>\n",
       "      <td>7121.4</td>\n",
       "      <td>7174.95</td>\n",
       "      <td>7064.15</td>\n",
       "      <td>7125.0</td>\n",
       "      <td>7157.45</td>\n",
       "      <td>7136.35</td>\n",
       "      <td>17718</td>\n",
       "      <td>1.264419e+13</td>\n",
       "      <td>4542.0</td>\n",
       "      <td>12742</td>\n",
       "      <td>0.7192</td>\n",
       "    </tr>\n",
       "    <tr>\n",
       "      <th>1305</th>\n",
       "      <td>2015-04-08</td>\n",
       "      <td>NESTLEIND</td>\n",
       "      <td>EQ</td>\n",
       "      <td>7157.45</td>\n",
       "      <td>7146.0</td>\n",
       "      <td>7168.15</td>\n",
       "      <td>7010.00</td>\n",
       "      <td>7015.1</td>\n",
       "      <td>7046.20</td>\n",
       "      <td>7084.61</td>\n",
       "      <td>12695</td>\n",
       "      <td>8.993916e+12</td>\n",
       "      <td>4558.0</td>\n",
       "      <td>10240</td>\n",
       "      <td>0.8066</td>\n",
       "    </tr>\n",
       "  </tbody>\n",
       "</table>\n",
       "</div>"
      ],
      "text/plain": [
       "            Date     Symbol Series  ...   Trades  Deliverable Volume  %Deliverble\n",
       "1301  2015-03-31  NESTLEIND     EQ  ...  13622.0               48338       0.7529\n",
       "1302  2015-04-01  NESTLEIND     EQ  ...   3889.0                8293       0.6032\n",
       "1303  2015-04-06  NESTLEIND     EQ  ...   6516.0               18331       0.7358\n",
       "1304  2015-04-07  NESTLEIND     EQ  ...   4542.0               12742       0.7192\n",
       "1305  2015-04-08  NESTLEIND     EQ  ...   4558.0               10240       0.8066\n",
       "\n",
       "[5 rows x 15 columns]"
      ]
     },
     "execution_count": 4,
     "metadata": {
      "tags": []
     },
     "output_type": "execute_result"
    }
   ],
   "source": [
    "#Reducing the dataset by taking values 2014-11-01 00:00:00 onwards\n",
    "new_df = df.loc[df['Date'] >= \"2015-03-31\"]\n",
    "new_df.head()"
   ]
  },
  {
   "cell_type": "code",
   "execution_count": null,
   "metadata": {
    "colab": {
     "base_uri": "https://localhost:8080/",
     "height": 614
    },
    "id": "KQxxNtPv0yFA",
    "outputId": "187326d7-dd5c-4af1-b021-d74deb09f7f4"
   },
   "outputs": [
    {
     "name": "stderr",
     "output_type": "stream",
     "text": [
      "/usr/local/lib/python3.7/dist-packages/ipykernel_launcher.py:2: SettingWithCopyWarning: \n",
      "A value is trying to be set on a copy of a slice from a DataFrame.\n",
      "Try using .loc[row_indexer,col_indexer] = value instead\n",
      "\n",
      "See the caveats in the documentation: https://pandas.pydata.org/pandas-docs/stable/user_guide/indexing.html#returning-a-view-versus-a-copy\n",
      "  \n"
     ]
    },
    {
     "data": {
      "text/plain": [
       "[<matplotlib.lines.Line2D at 0x7f5706e46250>]"
      ]
     },
     "execution_count": 5,
     "metadata": {
      "tags": []
     },
     "output_type": "execute_result"
    },
    {
     "data": {
      "image/png": "[encoded data removed]",
      "text/plain": [
       "<Figure size 1152x576 with 1 Axes>"
      ]
     },
     "metadata": {
      "needs_background": "light",
      "tags": []
     },
     "output_type": "display_data"
    }
   ],
   "source": [
    "#setting index as date\n",
    "new_df['Date'] = pd.to_datetime(new_df.Date,format='%Y-%m-%d')\n",
    "new_df.index = new_df['Date']\n",
    " \n",
    "#plot\n",
    "plt.figure(figsize=(16,8))\n",
    "plt.ylabel('Closing Values')\n",
    "plt.xlabel('Dates')\n",
    "plt.plot(new_df['Close'], label='Close Price history')"
   ]
  },
  {
   "cell_type": "code",
   "execution_count": null,
   "metadata": {
    "id": "shnLzi1k0-Op"
   },
   "outputs": [],
   "source": [
    "#importing required libraries\n",
    "from sklearn.preprocessing import MinMaxScaler   #Translates value of each feature in the given range\n",
    "from keras.models import Sequential              #The core idea of Sequential API is simply arranging the Keras layers in a sequential order \n",
    "from keras.layers import Dense,  LSTM"
   ]
  },
  {
   "cell_type": "code",
   "execution_count": null,
   "metadata": {
    "id": "ZFPBhEcj2L-r"
   },
   "outputs": [],
   "source": [
    "#creating dataframe\n",
    "data = new_df.sort_index(ascending=True, axis=0)\n",
    "new_data = pd.DataFrame(index=range(0,len(new_df)),columns=['Date', 'Close'])\n",
    "for i in range(0,len(data)):\n",
    "    new_data['Date'][i] = data['Date'][i]\n",
    "    new_data['Close'][i] = data['Close'][i]"
   ]
  },
  {
   "cell_type": "code",
   "execution_count": null,
   "metadata": {
    "id": "gNr9yxhR3JDX"
   },
   "outputs": [],
   "source": [
    "#setting index\n",
    "new_data.index = new_data.Date\n",
    "new_data.drop('Date', axis=1, inplace=True)"
   ]
  },
  {
   "cell_type": "code",
   "execution_count": null,
   "metadata": {
    "colab": {
     "base_uri": "https://localhost:8080/",
     "height": 234
    },
    "id": "Y-FI9ODxQVna",
    "outputId": "b492fc6d-1466-4fcd-edb5-ae6906fb11b4"
   },
   "outputs": [
    {
     "data": {
      "text/html": [
       "<div>\n",
       "<style scoped>\n",
       "    .dataframe tbody tr th:only-of-type {\n",
       "        vertical-align: middle;\n",
       "    }\n",
       "\n",
       "    .dataframe tbody tr th {\n",
       "        vertical-align: top;\n",
       "    }\n",
       "\n",
       "    .dataframe thead th {\n",
       "        text-align: right;\n",
       "    }\n",
       "</style>\n",
       "<table border=\"1\" class=\"dataframe\">\n",
       "  <thead>\n",
       "    <tr style=\"text-align: right;\">\n",
       "      <th></th>\n",
       "      <th>Close</th>\n",
       "    </tr>\n",
       "    <tr>\n",
       "      <th>Date</th>\n",
       "      <th></th>\n",
       "    </tr>\n",
       "  </thead>\n",
       "  <tbody>\n",
       "    <tr>\n",
       "      <th>2015-03-31</th>\n",
       "      <td>6947.35</td>\n",
       "    </tr>\n",
       "    <tr>\n",
       "      <th>2015-04-01</th>\n",
       "      <td>6923.15</td>\n",
       "    </tr>\n",
       "    <tr>\n",
       "      <th>2015-04-06</th>\n",
       "      <td>7121.35</td>\n",
       "    </tr>\n",
       "    <tr>\n",
       "      <th>2015-04-07</th>\n",
       "      <td>7157.45</td>\n",
       "    </tr>\n",
       "    <tr>\n",
       "      <th>2015-04-08</th>\n",
       "      <td>7046.2</td>\n",
       "    </tr>\n",
       "  </tbody>\n",
       "</table>\n",
       "</div>"
      ],
      "text/plain": [
       "              Close\n",
       "Date               \n",
       "2015-03-31  6947.35\n",
       "2015-04-01  6923.15\n",
       "2015-04-06  7121.35\n",
       "2015-04-07  7157.45\n",
       "2015-04-08   7046.2"
      ]
     },
     "execution_count": 8,
     "metadata": {
      "tags": []
     },
     "output_type": "execute_result"
    }
   ],
   "source": [
    "new_data.head()"
   ]
  },
  {
   "cell_type": "code",
   "execution_count": null,
   "metadata": {
    "id": "Bwba9cao3alz"
   },
   "outputs": [],
   "source": [
    "#creating train and test sets\n",
    "dataset = new_data.values"
   ]
  },
  {
   "cell_type": "code",
   "execution_count": null,
   "metadata": {
    "colab": {
     "base_uri": "https://localhost:8080/"
    },
    "id": "7tr6k7qHZHEi",
    "outputId": "741cafed-cbc0-4ab2-f07a-9ce0a5c175b0"
   },
   "outputs": [
    {
     "data": {
      "text/plain": [
       "array([[6947.35],\n",
       "       [6923.15],\n",
       "       [7121.35],\n",
       "       ...,\n",
       "       [16571.75],\n",
       "       [17165.0],\n",
       "       [17165.2]], dtype=object)"
      ]
     },
     "execution_count": 10,
     "metadata": {
      "tags": []
     },
     "output_type": "execute_result"
    }
   ],
   "source": [
    "dataset"
   ]
  },
  {
   "cell_type": "code",
   "execution_count": null,
   "metadata": {
    "id": "33omnbrb4FuF"
   },
   "outputs": [],
   "source": [
    "train = dataset[0:1200,:]\n",
    "test = dataset[1200:,:]"
   ]
  },
  {
   "cell_type": "code",
   "execution_count": null,
   "metadata": {
    "colab": {
     "base_uri": "https://localhost:8080/"
    },
    "id": "wxSt2hmD4Kgu",
    "outputId": "7cf7e7c1-18a0-4186-eae3-7278b3fc5cd1"
   },
   "outputs": [
    {
     "name": "stdout",
     "output_type": "stream",
     "text": [
      "[[0.14130364]\n",
      " [0.13954039]\n",
      " [0.15398151]\n",
      " ...\n",
      " [0.84255029]\n",
      " [0.88577528]\n",
      " [0.88578985]]\n"
     ]
    }
   ],
   "source": [
    "#converting dataset into x_train and y_train\n",
    "scaler = MinMaxScaler(feature_range=(0, 1))\n",
    "scaled_data = scaler.fit_transform(dataset)\n",
    "print(scaled_data)"
   ]
  },
  {
   "cell_type": "code",
   "execution_count": null,
   "metadata": {
    "id": "-Cav2fes4XfC"
   },
   "outputs": [],
   "source": [
    "x_train, y_train = [], []\n",
    "for i in range(70,len(train)):\n",
    "    x_train.append(scaled_data[i-70:i,0])\n",
    "    y_train.append(scaled_data[i,0])\n",
    "x_train, y_train = np.array(x_train), np.array(y_train)"
   ]
  },
  {
   "cell_type": "code",
   "execution_count": null,
   "metadata": {
    "colab": {
     "base_uri": "https://localhost:8080/"
    },
    "id": "R9Vf_sx_5f5R",
    "outputId": "0a56107e-b758-4465-9094-5d68374c0e47"
   },
   "outputs": [
    {
     "name": "stdout",
     "output_type": "stream",
     "text": [
      "(1130, 70)\n"
     ]
    }
   ],
   "source": [
    "print(x_train.shape)"
   ]
  },
  {
   "cell_type": "code",
   "execution_count": null,
   "metadata": {
    "colab": {
     "base_uri": "https://localhost:8080/"
    },
    "id": "79pBH4Dr-EOD",
    "outputId": "34798f41-bd8c-4d0b-989b-19a428dff220"
   },
   "outputs": [
    {
     "name": "stdout",
     "output_type": "stream",
     "text": [
      "(1130,)\n"
     ]
    }
   ],
   "source": [
    "print(y_train.shape)"
   ]
  },
  {
   "cell_type": "code",
   "execution_count": null,
   "metadata": {
    "colab": {
     "base_uri": "https://localhost:8080/"
    },
    "id": "xhoyOGZs_ZVC",
    "outputId": "db1f06ef-418d-4482-bdae-920afb4985a5"
   },
   "outputs": [
    {
     "name": "stdout",
     "output_type": "stream",
     "text": [
      "(1130, 70, 1)\n"
     ]
    }
   ],
   "source": [
    "x_train = np.reshape(x_train, (x_train.shape[0],x_train.shape[1],1))\n",
    "print(x_train.shape)"
   ]
  },
  {
   "cell_type": "code",
   "execution_count": null,
   "metadata": {
    "id": "Y8dUB1mEHY7e"
   },
   "outputs": [],
   "source": [
    "# create and fit the LSTM network\n",
    "model = Sequential()\n",
    "model.add(LSTM(units=50, return_sequences=True, input_shape=(x_train.shape[1],1)))\n",
    "model.add(LSTM(units=50))\n",
    "model.add(Dense(1))"
   ]
  },
  {
   "cell_type": "code",
   "execution_count": null,
   "metadata": {
    "colab": {
     "base_uri": "https://localhost:8080/"
    },
    "id": "CNK0FVD_HjCl",
    "outputId": "fa592d35-d9ff-4029-ceeb-1b6dfb297907"
   },
   "outputs": [
    {
     "name": "stdout",
     "output_type": "stream",
     "text": [
      "Epoch 1/100\n",
      "24/24 [==============================] - 23s 134ms/step - loss: 0.0077 - val_loss: 0.0010\n",
      "Epoch 2/100\n",
      "24/24 [==============================] - 2s 75ms/step - loss: 5.5339e-04 - val_loss: 0.0010\n",
      "Epoch 3/100\n",
      "24/24 [==============================] - 2s 77ms/step - loss: 3.3426e-04 - val_loss: 0.0018\n",
      "Epoch 4/100\n",
      "24/24 [==============================] - 2s 77ms/step - loss: 2.4978e-04 - val_loss: 0.0012\n",
      "Epoch 5/100\n",
      "24/24 [==============================] - 2s 76ms/step - loss: 2.4508e-04 - val_loss: 0.0012\n",
      "Epoch 6/100\n",
      "24/24 [==============================] - 2s 76ms/step - loss: 2.4067e-04 - val_loss: 9.9024e-04\n",
      "Epoch 7/100\n",
      "24/24 [==============================] - 2s 75ms/step - loss: 2.0885e-04 - val_loss: 9.2121e-04\n",
      "Epoch 8/100\n",
      "24/24 [==============================] - 2s 76ms/step - loss: 2.2309e-04 - val_loss: 8.8259e-04\n",
      "Epoch 9/100\n",
      "24/24 [==============================] - 2s 76ms/step - loss: 2.2069e-04 - val_loss: 8.6108e-04\n",
      "Epoch 10/100\n",
      "24/24 [==============================] - 2s 76ms/step - loss: 2.0748e-04 - val_loss: 7.7312e-04\n",
      "Epoch 11/100\n",
      "24/24 [==============================] - 2s 76ms/step - loss: 1.8880e-04 - val_loss: 8.5913e-04\n",
      "Epoch 12/100\n",
      "24/24 [==============================] - 2s 76ms/step - loss: 2.1192e-04 - val_loss: 0.0015\n",
      "Epoch 13/100\n",
      "24/24 [==============================] - 2s 75ms/step - loss: 1.8628e-04 - val_loss: 0.0010\n",
      "Epoch 14/100\n",
      "24/24 [==============================] - 2s 77ms/step - loss: 1.9230e-04 - val_loss: 5.9023e-04\n",
      "Epoch 15/100\n",
      "24/24 [==============================] - 2s 78ms/step - loss: 1.9307e-04 - val_loss: 6.7227e-04\n",
      "Epoch 16/100\n",
      "24/24 [==============================] - 2s 76ms/step - loss: 1.9066e-04 - val_loss: 6.7071e-04\n",
      "Epoch 17/100\n",
      "24/24 [==============================] - 2s 77ms/step - loss: 2.0948e-04 - val_loss: 7.2053e-04\n",
      "Epoch 18/100\n",
      "24/24 [==============================] - 2s 74ms/step - loss: 1.6143e-04 - val_loss: 5.4010e-04\n",
      "Epoch 19/100\n",
      "24/24 [==============================] - 2s 78ms/step - loss: 1.8038e-04 - val_loss: 4.8286e-04\n",
      "Epoch 20/100\n",
      "24/24 [==============================] - 2s 79ms/step - loss: 1.7707e-04 - val_loss: 4.5988e-04\n",
      "Epoch 21/100\n",
      "24/24 [==============================] - 2s 75ms/step - loss: 1.8115e-04 - val_loss: 6.4706e-04\n",
      "Epoch 22/100\n",
      "24/24 [==============================] - 2s 77ms/step - loss: 1.6584e-04 - val_loss: 7.9718e-04\n",
      "Epoch 23/100\n",
      "24/24 [==============================] - 2s 78ms/step - loss: 1.5670e-04 - val_loss: 4.4114e-04\n",
      "Epoch 24/100\n",
      "24/24 [==============================] - 2s 74ms/step - loss: 1.4601e-04 - val_loss: 5.0146e-04\n",
      "Epoch 25/100\n",
      "24/24 [==============================] - 2s 76ms/step - loss: 1.5109e-04 - val_loss: 4.6536e-04\n",
      "Epoch 26/100\n",
      "24/24 [==============================] - 2s 78ms/step - loss: 1.3254e-04 - val_loss: 6.6938e-04\n",
      "Epoch 27/100\n",
      "24/24 [==============================] - 2s 78ms/step - loss: 1.3940e-04 - val_loss: 4.3138e-04\n",
      "Epoch 28/100\n",
      "24/24 [==============================] - 2s 80ms/step - loss: 1.2546e-04 - val_loss: 9.1571e-04\n",
      "Epoch 29/100\n",
      "24/24 [==============================] - 2s 75ms/step - loss: 1.4486e-04 - val_loss: 6.1545e-04\n",
      "Epoch 30/100\n",
      "24/24 [==============================] - 2s 77ms/step - loss: 1.6424e-04 - val_loss: 3.7558e-04\n",
      "Epoch 31/100\n",
      "24/24 [==============================] - 2s 75ms/step - loss: 1.3368e-04 - val_loss: 3.8469e-04\n",
      "Epoch 32/100\n",
      "24/24 [==============================] - 2s 78ms/step - loss: 1.3789e-04 - val_loss: 3.8638e-04\n",
      "Epoch 33/100\n",
      "24/24 [==============================] - 2s 78ms/step - loss: 1.1429e-04 - val_loss: 8.3313e-04\n",
      "Epoch 34/100\n",
      "24/24 [==============================] - 2s 78ms/step - loss: 1.3986e-04 - val_loss: 4.5908e-04\n",
      "Epoch 35/100\n",
      "24/24 [==============================] - 2s 80ms/step - loss: 1.2027e-04 - val_loss: 3.5815e-04\n",
      "Epoch 36/100\n",
      "24/24 [==============================] - 2s 76ms/step - loss: 1.2390e-04 - val_loss: 3.7431e-04\n",
      "Epoch 37/100\n",
      "24/24 [==============================] - 2s 79ms/step - loss: 1.0772e-04 - val_loss: 3.8935e-04\n",
      "Epoch 38/100\n",
      "24/24 [==============================] - 2s 77ms/step - loss: 1.1938e-04 - val_loss: 3.3794e-04\n",
      "Epoch 39/100\n",
      "24/24 [==============================] - 2s 76ms/step - loss: 1.2466e-04 - val_loss: 4.9744e-04\n",
      "Epoch 40/100\n",
      "24/24 [==============================] - 2s 75ms/step - loss: 1.1198e-04 - val_loss: 4.1360e-04\n",
      "Epoch 41/100\n",
      "24/24 [==============================] - 2s 77ms/step - loss: 1.1042e-04 - val_loss: 3.4169e-04\n",
      "Epoch 42/100\n",
      "24/24 [==============================] - 2s 76ms/step - loss: 9.4299e-05 - val_loss: 4.0185e-04\n",
      "Epoch 43/100\n",
      "24/24 [==============================] - 2s 76ms/step - loss: 1.0897e-04 - val_loss: 3.5619e-04\n",
      "Epoch 44/100\n",
      "24/24 [==============================] - 2s 76ms/step - loss: 1.0126e-04 - val_loss: 3.4495e-04\n",
      "Epoch 45/100\n",
      "24/24 [==============================] - 2s 76ms/step - loss: 1.1049e-04 - val_loss: 3.4479e-04\n",
      "Epoch 46/100\n",
      "24/24 [==============================] - 2s 77ms/step - loss: 1.1335e-04 - val_loss: 3.6445e-04\n",
      "Epoch 47/100\n",
      "24/24 [==============================] - 2s 77ms/step - loss: 1.1311e-04 - val_loss: 6.6432e-04\n",
      "Epoch 48/100\n",
      "24/24 [==============================] - 2s 76ms/step - loss: 1.4314e-04 - val_loss: 3.8213e-04\n",
      "Epoch 49/100\n",
      "24/24 [==============================] - 2s 77ms/step - loss: 1.0095e-04 - val_loss: 3.1572e-04\n",
      "Epoch 50/100\n",
      "24/24 [==============================] - 2s 76ms/step - loss: 8.9655e-05 - val_loss: 3.0736e-04\n",
      "Epoch 51/100\n",
      "24/24 [==============================] - 2s 76ms/step - loss: 9.2090e-05 - val_loss: 3.0404e-04\n",
      "Epoch 52/100\n",
      "24/24 [==============================] - 2s 75ms/step - loss: 9.7179e-05 - val_loss: 3.9646e-04\n",
      "Epoch 53/100\n",
      "24/24 [==============================] - 2s 77ms/step - loss: 9.8244e-05 - val_loss: 2.9174e-04\n",
      "Epoch 54/100\n",
      "24/24 [==============================] - 2s 78ms/step - loss: 8.6904e-05 - val_loss: 3.7753e-04\n",
      "Epoch 55/100\n",
      "24/24 [==============================] - 2s 77ms/step - loss: 9.5088e-05 - val_loss: 3.0025e-04\n",
      "Epoch 56/100\n",
      "24/24 [==============================] - 2s 77ms/step - loss: 9.2835e-05 - val_loss: 4.1862e-04\n",
      "Epoch 57/100\n",
      "24/24 [==============================] - 2s 76ms/step - loss: 1.1003e-04 - val_loss: 2.8774e-04\n",
      "Epoch 58/100\n",
      "24/24 [==============================] - 2s 78ms/step - loss: 9.6807e-05 - val_loss: 3.9392e-04\n",
      "Epoch 59/100\n",
      "24/24 [==============================] - 2s 79ms/step - loss: 9.3291e-05 - val_loss: 5.0276e-04\n",
      "Epoch 60/100\n",
      "24/24 [==============================] - 2s 77ms/step - loss: 9.6555e-05 - val_loss: 3.8364e-04\n",
      "Epoch 61/100\n",
      "24/24 [==============================] - 2s 77ms/step - loss: 9.9430e-05 - val_loss: 3.1592e-04\n",
      "Epoch 62/100\n",
      "24/24 [==============================] - 2s 79ms/step - loss: 1.0303e-04 - val_loss: 4.1478e-04\n",
      "Epoch 63/100\n",
      "24/24 [==============================] - 2s 76ms/step - loss: 8.5519e-05 - val_loss: 3.8558e-04\n",
      "Epoch 64/100\n",
      "24/24 [==============================] - 2s 75ms/step - loss: 9.4885e-05 - val_loss: 2.7831e-04\n",
      "Epoch 65/100\n",
      "24/24 [==============================] - 2s 79ms/step - loss: 1.0503e-04 - val_loss: 2.8063e-04\n",
      "Epoch 66/100\n",
      "24/24 [==============================] - 2s 75ms/step - loss: 8.0686e-05 - val_loss: 2.6702e-04\n",
      "Epoch 67/100\n",
      "24/24 [==============================] - 2s 78ms/step - loss: 1.0206e-04 - val_loss: 5.1486e-04\n",
      "Epoch 68/100\n",
      "24/24 [==============================] - 2s 79ms/step - loss: 8.5138e-05 - val_loss: 7.8070e-04\n",
      "Epoch 69/100\n",
      "24/24 [==============================] - 2s 77ms/step - loss: 9.4039e-05 - val_loss: 2.4263e-04\n",
      "Epoch 70/100\n",
      "24/24 [==============================] - 2s 75ms/step - loss: 8.3247e-05 - val_loss: 3.3993e-04\n",
      "Epoch 71/100\n",
      "24/24 [==============================] - 2s 79ms/step - loss: 8.6943e-05 - val_loss: 2.3697e-04\n",
      "Epoch 72/100\n",
      "24/24 [==============================] - 2s 82ms/step - loss: 7.9915e-05 - val_loss: 2.5960e-04\n",
      "Epoch 73/100\n",
      "24/24 [==============================] - 2s 79ms/step - loss: 8.5711e-05 - val_loss: 2.8583e-04\n",
      "Epoch 74/100\n",
      "24/24 [==============================] - 2s 77ms/step - loss: 8.2033e-05 - val_loss: 2.4144e-04\n",
      "Epoch 75/100\n",
      "24/24 [==============================] - 2s 76ms/step - loss: 7.9223e-05 - val_loss: 3.0558e-04\n",
      "Epoch 76/100\n",
      "24/24 [==============================] - 2s 77ms/step - loss: 7.7487e-05 - val_loss: 3.4021e-04\n",
      "Epoch 77/100\n",
      "24/24 [==============================] - 2s 76ms/step - loss: 8.9253e-05 - val_loss: 2.6374e-04\n",
      "Epoch 78/100\n",
      "24/24 [==============================] - 2s 78ms/step - loss: 7.3235e-05 - val_loss: 2.2214e-04\n",
      "Epoch 79/100\n",
      "24/24 [==============================] - 2s 76ms/step - loss: 9.7482e-05 - val_loss: 2.2062e-04\n",
      "Epoch 80/100\n",
      "24/24 [==============================] - 2s 77ms/step - loss: 9.6231e-05 - val_loss: 2.4714e-04\n",
      "Epoch 81/100\n",
      "24/24 [==============================] - 2s 76ms/step - loss: 7.6591e-05 - val_loss: 3.0703e-04\n",
      "Epoch 82/100\n",
      "24/24 [==============================] - 2s 78ms/step - loss: 8.0219e-05 - val_loss: 2.5947e-04\n",
      "Epoch 83/100\n",
      "24/24 [==============================] - 2s 77ms/step - loss: 6.8732e-05 - val_loss: 2.1034e-04\n",
      "Epoch 84/100\n",
      "24/24 [==============================] - 2s 77ms/step - loss: 6.8172e-05 - val_loss: 2.2780e-04\n",
      "Epoch 85/100\n",
      "24/24 [==============================] - 2s 75ms/step - loss: 6.8531e-05 - val_loss: 2.0823e-04\n",
      "Epoch 86/100\n",
      "24/24 [==============================] - 2s 76ms/step - loss: 6.4883e-05 - val_loss: 2.0525e-04\n",
      "Epoch 87/100\n",
      "24/24 [==============================] - 2s 76ms/step - loss: 7.8909e-05 - val_loss: 4.7209e-04\n",
      "Epoch 88/100\n",
      "24/24 [==============================] - 2s 77ms/step - loss: 7.3360e-05 - val_loss: 2.1286e-04\n",
      "Epoch 89/100\n",
      "24/24 [==============================] - 2s 79ms/step - loss: 7.0106e-05 - val_loss: 2.1123e-04\n",
      "Epoch 90/100\n",
      "24/24 [==============================] - 2s 80ms/step - loss: 7.4155e-05 - val_loss: 2.9438e-04\n",
      "Epoch 91/100\n",
      "24/24 [==============================] - 2s 77ms/step - loss: 8.5080e-05 - val_loss: 1.9923e-04\n",
      "Epoch 92/100\n",
      "24/24 [==============================] - 2s 78ms/step - loss: 7.9117e-05 - val_loss: 2.0670e-04\n",
      "Epoch 93/100\n",
      "24/24 [==============================] - 2s 76ms/step - loss: 6.6327e-05 - val_loss: 3.6148e-04\n",
      "Epoch 94/100\n",
      "24/24 [==============================] - 2s 79ms/step - loss: 6.9009e-05 - val_loss: 2.9987e-04\n",
      "Epoch 95/100\n",
      "24/24 [==============================] - 2s 77ms/step - loss: 6.8658e-05 - val_loss: 2.6876e-04\n",
      "Epoch 96/100\n",
      "24/24 [==============================] - 2s 77ms/step - loss: 6.2820e-05 - val_loss: 2.2786e-04\n",
      "Epoch 97/100\n",
      "24/24 [==============================] - 2s 76ms/step - loss: 5.6963e-05 - val_loss: 2.3244e-04\n",
      "Epoch 98/100\n",
      "24/24 [==============================] - 2s 78ms/step - loss: 6.2636e-05 - val_loss: 2.8978e-04\n",
      "Epoch 99/100\n",
      "24/24 [==============================] - 2s 76ms/step - loss: 6.9645e-05 - val_loss: 2.3161e-04\n",
      "Epoch 100/100\n",
      "24/24 [==============================] - 2s 77ms/step - loss: 6.9582e-05 - val_loss: 2.0790e-04\n"
     ]
    }
   ],
   "source": [
    "model.compile(loss='mean_squared_error', optimizer='adam')\n",
    "history=model.fit(x_train, y_train, validation_split = 0.33,epochs=100, batch_size=32, verbose=1)"
   ]
  },
  {
   "cell_type": "code",
   "execution_count": null,
   "metadata": {
    "colab": {
     "base_uri": "https://localhost:8080/",
     "height": 295
    },
    "id": "ojfgIGvAZg06",
    "outputId": "ff3187aa-3077-4468-c033-89c39269d1ed"
   },
   "outputs": [
    {
     "data": {
      "image/png": "[encoded data removed]",
      "text/plain": [
       "<Figure size 432x288 with 1 Axes>"
      ]
     },
     "metadata": {
      "needs_background": "light",
      "tags": []
     },
     "output_type": "display_data"
    }
   ],
   "source": [
    "plt.plot(history.history['loss'])\n",
    "plt.plot(history.history['val_loss'])\n",
    "plt.title('model loss')\n",
    "plt.ylabel('loss')\n",
    "plt.xlabel('epoch')\n",
    "plt.legend(['train', 'valid'], loc='upper left')\n",
    "plt.show()"
   ]
  },
  {
   "cell_type": "code",
   "execution_count": null,
   "metadata": {
    "id": "2TczCq8vHt-Z"
   },
   "outputs": [],
   "source": [
    "#predicting  values, using past 70 from the train data\n",
    "inputs = new_data[len(new_data) - len(test) - 70:].values\n",
    "inputs = inputs.reshape(-1,1)\n",
    "inputs  = scaler.transform(inputs)"
   ]
  },
  {
   "cell_type": "code",
   "execution_count": null,
   "metadata": {
    "colab": {
     "base_uri": "https://localhost:8080/"
    },
    "id": "8mEeFGIgDRQu",
    "outputId": "29ebecb5-69d5-4ef3-be37-e0d39689bce5"
   },
   "outputs": [
    {
     "data": {
      "text/plain": [
       "356"
      ]
     },
     "execution_count": 21,
     "metadata": {
      "tags": []
     },
     "output_type": "execute_result"
    }
   ],
   "source": [
    "len(inputs)"
   ]
  },
  {
   "cell_type": "code",
   "execution_count": null,
   "metadata": {
    "id": "UEtkZr7tH1zz"
   },
   "outputs": [],
   "source": [
    "X_test = []\n",
    "for i in range(70,inputs.shape[0]):\n",
    "    X_test.append(inputs[i-70:i,0])\n",
    "X_test = np.array(X_test)"
   ]
  },
  {
   "cell_type": "code",
   "execution_count": null,
   "metadata": {
    "id": "-yxiniNJH6gY"
   },
   "outputs": [],
   "source": [
    "X_test = np.reshape(X_test, (X_test.shape[0],X_test.shape[1],1))\n",
    "closing_price = model.predict(X_test)\n",
    "closing_price = scaler.inverse_transform(closing_price)"
   ]
  },
  {
   "cell_type": "code",
   "execution_count": null,
   "metadata": {
    "colab": {
     "base_uri": "https://localhost:8080/"
    },
    "id": "xsKTUNJsH_ew",
    "outputId": "ef010146-ecbd-4908-c728-f7cf2735332f"
   },
   "outputs": [
    {
     "data": {
      "text/plain": [
       "328.51895056485614"
      ]
     },
     "execution_count": 24,
     "metadata": {
      "tags": []
     },
     "output_type": "execute_result"
    }
   ],
   "source": [
    "rms=np.sqrt(np.mean(np.power((test-closing_price),2)))\n",
    "rms"
   ]
  },
  {
   "cell_type": "code",
   "execution_count": null,
   "metadata": {
    "colab": {
     "base_uri": "https://localhost:8080/",
     "height": 614
    },
    "id": "R5XJjkGEIIwI",
    "outputId": "96491529-f1a0-4d65-e175-a0b79d8f4ed8"
   },
   "outputs": [
    {
     "name": "stderr",
     "output_type": "stream",
     "text": [
      "/usr/local/lib/python3.7/dist-packages/ipykernel_launcher.py:4: SettingWithCopyWarning: \n",
      "A value is trying to be set on a copy of a slice from a DataFrame.\n",
      "Try using .loc[row_indexer,col_indexer] = value instead\n",
      "\n",
      "See the caveats in the documentation: https://pandas.pydata.org/pandas-docs/stable/user_guide/indexing.html#returning-a-view-versus-a-copy\n",
      "  after removing the cwd from sys.path.\n"
     ]
    },
    {
     "data": {
      "image/png": "[encoded data removed]",
      "text/plain": [
       "<Figure size 1152x576 with 1 Axes>"
      ]
     },
     "metadata": {
      "needs_background": "light",
      "tags": []
     },
     "output_type": "display_data"
    }
   ],
   "source": [
    "#for plotting\n",
    "train = new_data[:1200]\n",
    "valid = new_data[1200:]\n",
    "valid['Predictions'] = closing_price\n",
    "plt.figure(figsize=(16,8))\n",
    "plt.plot(train['Close'])\n",
    "plt.plot(valid[['Close','Predictions']])\n",
    "plt.title('Predicted Plot')\n",
    "plt.ylabel('Closing Values')\n",
    "plt.xlabel('Dates')\n",
    "plt.legend(['original', 'original closing values','predicted closing values',], loc='upper left')\n",
    "plt.show()"
   ]
  },
  {
   "cell_type": "code",
   "execution_count": null,
   "metadata": {
    "colab": {
     "base_uri": "https://localhost:8080/"
    },
    "id": "dTvOVlrvugYK",
    "outputId": "c08ab8cb-050a-4d31-96ed-666a14138137"
   },
   "outputs": [
    {
     "data": {
      "text/plain": [
       "0.8686047012182497"
      ]
     },
     "execution_count": 26,
     "metadata": {
      "tags": []
     },
     "output_type": "execute_result"
    }
   ],
   "source": [
    "r2_score(valid['Close'],valid['Predictions'])"
   ]
  },
  {
   "cell_type": "code",
   "execution_count": null,
   "metadata": {
    "id": "7aK1c9zwsjwr"
   },
   "outputs": [],
   "source": []
  }
 ],
 "metadata": {
  "colab": {
   "collapsed_sections": [],
   "name": "Miniproject.ipynb",
   "provenance": []
  },
  "kernelspec": {
   "display_name": "Python 3",
   "language": "python",
   "name": "python3"
  },
  "language_info": {
   "codemirror_mode": {
    "name": "ipython",
    "version": 3
   },
   "file_extension": ".py",
   "mimetype": "text/x-python",
   "name": "python",
   "nbconvert_exporter": "python",
   "pygments_lexer": "ipython3",
   "version": "3.8.8"
  }
 },
 "nbformat": 4,
 "nbformat_minor": 1
}
